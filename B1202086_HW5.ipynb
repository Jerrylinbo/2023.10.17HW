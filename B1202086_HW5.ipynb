{
  "nbformat": 4,
  "nbformat_minor": 0,
  "metadata": {
    "colab": {
      "provenance": []
    },
    "kernelspec": {
      "name": "python3",
      "display_name": "Python 3"
    },
    "language_info": {
      "name": "python"
    }
  },
  "cells": [
    {
      "cell_type": "code",
      "execution_count": 51,
      "metadata": {
        "colab": {
          "base_uri": "https://localhost:8080/"
        },
        "id": "5ZZaImybbljB",
        "outputId": "59866bfc-1747-4c0a-d30d-eb827270afe6"
      },
      "outputs": [
        {
          "output_type": "stream",
          "name": "stdout",
          "text": [
            "        *\n",
            "       ***\n",
            "      *****\n",
            "     *******\n",
            "    *********\n",
            "   ***********\n",
            "  *************\n",
            " ***************\n",
            "*****************\n",
            "       ***       \n",
            "       ***       \n",
            "       ***       \n",
            "       ***       \n",
            "       ***       \n"
          ]
        }
      ],
      "source": [
        "for a in range(1,18,2):\n",
        "  for b in range(18-a,1,-2):\n",
        "    print(f' ',end='')\n",
        "  for c in range(1,a+1):\n",
        "    print(f'*',end='')\n",
        "  print('')\n",
        "for a in range(19,24):\n",
        "  d='***'\n",
        "  print(f'{d:^17s}')"
      ]
    },
    {
      "cell_type": "code",
      "source": [
        "import random\n",
        "answer=random.sample(range(1,10),4)\n",
        "print(answer)\n",
        "a=b=c=turn=0\n",
        "while a<4:\n",
        "  a=b=c=0\n",
        "  turn+=1\n",
        "  d=list(input('請輸入四位數字：'))\n",
        "  if len(d)>4:\n",
        "    print('超過了！請重新輸入')\n",
        "  else:\n",
        "    for i in d:\n",
        "      if int(d[c])==answer[c]:\n",
        "        a=a+1\n",
        "      else:\n",
        "        if int(i) in answer:\n",
        "          b=b+1\n",
        "      c=c+1\n",
        "    result=','.join(d).replace(',','')\n",
        "    print(f'{result} :{a}A{b}B')\n",
        "print(f'答對了！總共猜了{turn}次')"
      ],
      "metadata": {
        "colab": {
          "base_uri": "https://localhost:8080/"
        },
        "id": "Y3-ZTXBYoSuC",
        "outputId": "794a17e9-06c3-4784-acd5-537c26d58dcb"
      },
      "execution_count": 34,
      "outputs": [
        {
          "output_type": "stream",
          "name": "stdout",
          "text": [
            "[3, 9, 1, 5]\n",
            "請輸入四位數字：3960\n",
            "3960 :2A0B\n",
            "請輸入四位數字：93150\n",
            "超過了！請重新輸入\n",
            "請輸入四位數字：5962\n",
            "5962 :1A1B\n",
            "請輸入四位數字：3951\n",
            "3951 :2A2B\n",
            "請輸入四位數字：3915\n",
            "3915 :4A0B\n",
            "答對了！總共猜了5次\n"
          ]
        }
      ]
    }
  ]
}